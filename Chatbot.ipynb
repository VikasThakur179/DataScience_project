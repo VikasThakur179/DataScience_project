{
 "cells": [
  {
   "cell_type": "code",
   "execution_count": 1,
   "id": "c0f90101-4c7e-49b6-8d2a-bc944006c624",
   "metadata": {},
   "outputs": [],
   "source": [
    "import io\n",
    "import random\n",
    "import string # to process standard python strings\n",
    "import warnings\n",
    "warnings.filterwarnings(\"ignore\")\n",
    "import numpy as np"
   ]
  },
  {
   "cell_type": "code",
   "execution_count": 2,
   "id": "985c5599-f3fe-4434-8e83-00e460082b3b",
   "metadata": {},
   "outputs": [],
   "source": [
    "from sklearn.feature_extraction.text import TfidfVectorizer\n",
    "from sklearn.metrics.pairwise import cosine_similarity"
   ]
  },
  {
   "cell_type": "code",
   "execution_count": 3,
   "id": "c5675fe2-48a2-4ca7-89d9-551e214dd59b",
   "metadata": {},
   "outputs": [
    {
     "name": "stdout",
     "output_type": "stream",
     "text": [
      "Requirement already satisfied: scikit-learn in e:\\vikas 2\\jupyter file\\lib\\site-packages (1.5.1)Note: you may need to restart the kernel to use updated packages.\n",
      "\n",
      "Requirement already satisfied: numpy>=1.19.5 in e:\\vikas 2\\jupyter file\\lib\\site-packages (from scikit-learn) (1.26.4)\n",
      "Requirement already satisfied: scipy>=1.6.0 in e:\\vikas 2\\jupyter file\\lib\\site-packages (from scikit-learn) (1.13.1)\n",
      "Requirement already satisfied: joblib>=1.2.0 in e:\\vikas 2\\jupyter file\\lib\\site-packages (from scikit-learn) (1.4.2)\n",
      "Requirement already satisfied: threadpoolctl>=3.1.0 in e:\\vikas 2\\jupyter file\\lib\\site-packages (from scikit-learn) (3.5.0)\n"
     ]
    }
   ],
   "source": [
    "pip install scikit-learn"
   ]
  },
  {
   "cell_type": "code",
   "execution_count": 4,
   "id": "bb6369f2-7381-4db3-9b93-421bd3e99f74",
   "metadata": {},
   "outputs": [
    {
     "name": "stdout",
     "output_type": "stream",
     "text": [
      "Requirement already satisfied: nltk in e:\\vikas 2\\jupyter file\\lib\\site-packages (3.9.1)\n",
      "Requirement already satisfied: click in e:\\vikas 2\\jupyter file\\lib\\site-packages (from nltk) (8.1.7)\n",
      "Requirement already satisfied: joblib in e:\\vikas 2\\jupyter file\\lib\\site-packages (from nltk) (1.4.2)\n",
      "Requirement already satisfied: regex>=2021.8.3 in e:\\vikas 2\\jupyter file\\lib\\site-packages (from nltk) (2024.9.11)\n",
      "Requirement already satisfied: tqdm in e:\\vikas 2\\jupyter file\\lib\\site-packages (from nltk) (4.66.5)\n",
      "Requirement already satisfied: colorama in e:\\vikas 2\\jupyter file\\lib\\site-packages (from click->nltk) (0.4.6)\n",
      "Note: you may need to restart the kernel to use updated packages.\n"
     ]
    }
   ],
   "source": [
    "pip install nltk"
   ]
  },
  {
   "cell_type": "code",
   "execution_count": 5,
   "id": "d8338269-9c12-4740-8fe5-c797ba4e2897",
   "metadata": {},
   "outputs": [
    {
     "name": "stderr",
     "output_type": "stream",
     "text": [
      "[nltk_data] Downloading package punkt_tab to\n",
      "[nltk_data]     C:\\Users\\ashis\\AppData\\Roaming\\nltk_data...\n",
      "[nltk_data]   Package punkt_tab is already up-to-date!\n"
     ]
    },
    {
     "data": {
      "text/plain": [
       "True"
      ]
     },
     "execution_count": 5,
     "metadata": {},
     "output_type": "execute_result"
    }
   ],
   "source": [
    "import nltk\n",
    "from nltk.stem import WordNetLemmatizer\n",
    "nltk.download('punkt_tab')\n",
    "nltk.download('popular', quiet=True)"
   ]
  },
  {
   "cell_type": "code",
   "execution_count": 6,
   "id": "0af30bc0-dc21-4b76-8d74-227cab95497c",
   "metadata": {},
   "outputs": [
    {
     "name": "stdout",
     "output_type": "stream",
     "text": [
      "user: how are you\n",
      "bot: i'm just a chatbot, but thanks for asking!\n",
      "\n",
      "user: tell me a joke\n",
      "bot: why don't scientists trust atoms? because they make up everything!\n",
      "\n",
      "user: who created you\n",
      "bot: i was created by a team of developers, mostly rohit.\n",
      "\n",
      "user: bye\n",
      "bot: goodbye! feel free to come back if you have more questions.\n",
      "\n",
      "user: what's your favorite color\n",
      "bot: i don't have personal preferences, but i can help with your questions.\n",
      "\n",
      "user: who won the world series in 2020\n",
      "bot: the los angeles dodgers won the world series in 2020.\n",
      "\n",
      "user: what's the weather like today\n",
      "bot: i don't have access to real-time data, but you can check a weather website or app.\n",
      "\n",
      "user: recommend a book\n",
      "bot: it depends on your interests. do you prefer fiction or non-fiction?\n",
      "\n",
      "user: what's the meaning of life\n",
      "bot: the meaning of life is a profound and philosophical question. it varies from person to person.\n",
      "\n",
      "user: how can i learn programming\n",
      "bot: you can start by learning a programming language like python and practice regularly.\n",
      "\n",
      "user: what's your favorite movie\n",
      "bot: i don't watch movies, but i can discuss movie recommendations.\n",
      "\n",
      "user: where is the eiffel tower located\n",
      "bot: the eiffel tower is located in paris, france.\n",
      "\n",
      "user: tell me about artificial intelligence\n",
      "bot: artificial intelligence (ai) is the simulation of human intelligence by machines.\n",
      "\n",
      "user: who is your favorite celebrity\n",
      "bot: i don't have preferences, but i can provide information about various celebrities.\n",
      "\n",
      "user: what's the capital of japan\n",
      "bot: the capital of japan is tokyo.\n",
      "\n",
      "user: how does a computer work\n",
      "bot: a computer processes data using a combination of hardware and software.\n",
      "\n",
      "user: do you like pizza\n",
      "bot: i can't eat, but i can help you find pizza places near you.\n",
      "\n",
      "user: tell me a fun fact\n",
      "bot: did you know that honey never spoils? archaeologists have found pots of honey in ancient egyptian tombs that are over 3,000 years old and still perfectly edible.\n",
      "\n",
      "user: what's the largest planet in our solar system\n",
      "bot: jupiter is the largest planet in our solar system.\n",
      "\n",
      "user: how does a search engine work\n",
      "bot: search engines use web crawlers to index websites and algorithms to rank and display search results.\n",
      "\n",
      "user: tell me a riddle\n",
      "bot: i'm in the middle of water but never get wet. what am i? answer: a shadow.\n",
      "\n",
      "user: what's the population of india\n",
      "bot: as of my last update in 2021, india's population is over 1.3 billion people.\n",
      "\n",
      "user: what's the square root of 144\n",
      "bot: the square root of 144 is 12.\n",
      "\n",
      "user: recommend a tv show\n",
      "bot: what genre are you interested in? comedy, drama, science fiction, or something else?\n",
      "\n",
      "user: what's the difference between html and css\n",
      "bot: html is used for structuring web content, while css is used for styling and layout.\n",
      "\n",
      "user: tell me about famous scientists\n",
      "bot: there are many famous scientists, like albert einstein, isaac newton, and marie curie.\n",
      "\n",
      "user: how can i stay healthy\n",
      "bot: staying healthy involves a balanced diet, regular exercise, and good sleep habits.\n",
      "\n",
      "user: what's the capital of australia\n",
      "bot: the capital of australia is canberra.\n",
      "\n",
      "user: tell me a famous quote\n",
      "bot: here's one by albert einstein: 'imagination is more important than knowledge.'\n",
      "\n",
      "user: how do i create a website\n",
      "bot: you can create a website using html, css, and web development tools like wordpress or wix.\n",
      "\n",
      "user: what's the boiling point of water\n",
      "bot: the boiling point of water at sea level is 100 degrees celsius or 212 degrees fahrenheit.\n",
      "\n",
      "user: tell me a travel tip\n",
      "bot: when traveling, pack light and make a list of important items to avoid forgetting anything.\n",
      "\n",
      "user: what's the speed of light\n",
      "bot: the speed of light in a vacuum is approximately 299,792,458 meters per second (or about 186,282 miles per second).\n",
      "\n",
      "user: tell me a famous author\n",
      "bot: shakespeare is one of the most famous authors in literary history.\n",
      "\n",
      "user: what's the capital of china\n",
      "bot: the capital of china is beijing.\n",
      "\n",
      "user: tell me a proverb or saying\n",
      "bot: here's one: 'actions speak louder than words.'\n",
      "\n",
      "user: what's the highest mountain in the world\n",
      "bot: mount everest is the highest mountain in the world.\n",
      "\n",
      "user: how can i become a better public speaker\n",
      "bot: to become a better public speaker, practice and refine your speaking skills and confidence.\n",
      "\n",
      "user: tell me a space fact\n",
      "bot: space is completely silent because there is no air to carry sound waves.\n",
      "\n",
      "user: what's the smallest prime number\n",
      "bot: the smallest prime number is 2.\n",
      "\n",
      "user: how do i create a strong password\n",
      "bot: create a strong password by using a combination of letters, numbers, and special characters.\n",
      "\n",
      "user: tell me about famous artists\n",
      "bot: famous artists include leonardo da vinci, vincent van gogh, and pablo picasso.\n",
      "\n",
      "user: what's the coldest place on earth\n",
      "bot: the coldest place on earth is antarctica, where temperatures can drop below -100 degrees fahrenheit.\n",
      "\n",
      "user: tell me a cooking tip\n",
      "bot: when cooking, taste your food as you go and adjust seasonings to your preference.\n",
      "\n",
      "user: what's the currency of canada\n",
      "bot: the currency of canada is the canadian dollar (cad).\n",
      "\n",
      "user: tell me about famous inventors\n",
      "bot: famous inventors include thomas edison, alexander graham bell, and nikola tesla.\n",
      "\n",
      "user: what's the largest desert in the world\n",
      "bot: the largest desert in the world is the antarctic desert, followed by the arctic desert.\n",
      "\n",
      "user: tell me a gardening tip\n",
      "bot: water your plants in the morning to prevent fungal growth and conserve water.\n",
      "\n",
      "user: what's the currency of the united kingdom\n",
      "bot: the currency of the united kingdom is the british pound (gbp).\n",
      "\n",
      "user: tell me about famous historical events\n",
      "bot: one of the most famous historical events is the apollo 11 moon landing in 1969.\n",
      "\n",
      "user: how do i bake chocolate chip cookies\n",
      "bot: to bake chocolate chip cookies, you'll need flour, butter, sugar, eggs, chocolate chips, and more. here's a basic recipe to get you started:\n",
      "\n",
      "user: what's the highest waterfall in the world\n",
      "bot: angel falls in venezuela is the highest waterfall in the world.\n",
      "\n",
      "user: tell me a mindfulness tip\n",
      "bot: practice mindfulness by focusing on the present moment, taking deep breaths, and being aware of your thoughts and feelings.\n",
      "\n",
      "user: what's the national bird of the united states\n",
      "bot: the national bird of the united states is the bald eagle.\n",
      "\n",
      "user: tell me about famous philosophers\n",
      "bot: famous philosophers include plato, aristotle, and immanuel kant.\n",
      "\n",
      "user: how do i prepare for a job interview\n",
      "bot: preparing for a job interview involves researching the company, practicing common interview questions, and dressing professionally.\n",
      "\n",
      "user: what's the deepest part of the ocean\n",
      "bot: the mariana t\n",
      "\n"
     ]
    }
   ],
   "source": [
    "f = open('chatbot.txt', 'r', errors = 'ignore')\n",
    "raw = f.read()\n",
    "raw = raw.lower() #converts to lowercase\n",
    "print(raw)"
   ]
  },
  {
   "cell_type": "markdown",
   "id": "1d70cc56-ac4c-4f02-9734-cdede9c196b7",
   "metadata": {},
   "source": [
    "# tokenization"
   ]
  },
  {
   "cell_type": "code",
   "execution_count": 7,
   "id": "d8216ca2-ef74-4261-8f80-7bd8c49474f2",
   "metadata": {},
   "outputs": [],
   "source": [
    "sent_tokens = nltk.sent_tokenize(raw)# converts to list of sentences \n",
    "\n",
    "word_tokens = nltk.word_tokenize(raw) # converts to list of words"
   ]
  },
  {
   "cell_type": "markdown",
   "id": "ec3dde00-13ba-4b62-a747-09a981eb4ff1",
   "metadata": {},
   "source": [
    "# preprocessing"
   ]
  },
  {
   "cell_type": "code",
   "execution_count": 8,
   "id": "2c2b9742-1435-409a-b059-6805ca761272",
   "metadata": {},
   "outputs": [],
   "source": [
    "lemmer = nltk.stem.WordNetLemmatizer()\n",
    "def LemTokens(tokens):\n",
    "    return [lemmer.lemmatize(token) for token in tokens]"
   ]
  },
  {
   "cell_type": "code",
   "execution_count": 9,
   "id": "74ec570f-1231-4485-86bf-2be23af7b8b3",
   "metadata": {},
   "outputs": [
    {
     "data": {
      "text/plain": [
       "'!\"#$%&\\'()*+,-./:;<=>?@[\\\\]^_`{|}~'"
      ]
     },
     "execution_count": 9,
     "metadata": {},
     "output_type": "execute_result"
    }
   ],
   "source": [
    "string.punctuation"
   ]
  },
  {
   "cell_type": "code",
   "execution_count": 10,
   "id": "76c0a731-e3b8-4011-bedf-7af44b621770",
   "metadata": {},
   "outputs": [],
   "source": [
    "remove_punct_dict = dict((ord(punct), None) for punct in string.punctuation)"
   ]
  },
  {
   "cell_type": "code",
   "execution_count": 11,
   "id": "0a0d9df8-fab0-4c83-aad9-04692e1b38c2",
   "metadata": {},
   "outputs": [],
   "source": [
    "def LemNormalize(text):\n",
    "    return LemTokens(nltk.word_tokenize(text.lower().translate(remove_punct_dict)))"
   ]
  },
  {
   "cell_type": "code",
   "execution_count": 12,
   "id": "e95b60ac-ad47-4c7f-b17d-9983cf96452a",
   "metadata": {},
   "outputs": [],
   "source": [
    "GREETING_INPUTS = (\"hello\", \"hi\", \"greetings\", \"sup\", \"what's up\",\"hey\",)\n",
    "GREETING_RESPONSES = [\"hi\", \"hey\", \"*nods*\", \"hi there\", \"hello\", \"I am glad! You are talking to me\"]\n",
    "def greeting(sentence):\n",
    " \n",
    "    for word in sentence.split():\n",
    "        if word.lower() in GREETING_INPUTS:\n",
    "            return random.choice(GREETING_RESPONSES)"
   ]
  },
  {
   "cell_type": "code",
   "execution_count": 13,
   "id": "b3baad72-74c7-428f-b2c7-0cdbfe72566d",
   "metadata": {},
   "outputs": [
    {
     "data": {
      "text/plain": [
       "'*nods*'"
      ]
     },
     "execution_count": 13,
     "metadata": {},
     "output_type": "execute_result"
    }
   ],
   "source": [
    "greeting(\"hello how r u doing\")"
   ]
  },
  {
   "cell_type": "code",
   "execution_count": 14,
   "id": "a2b872c5-dd4d-4d15-9203-8735fe896f7d",
   "metadata": {},
   "outputs": [],
   "source": [
    "def response(user_response):\n",
    "    robo_response=''\n",
    "    sent_tokens.append(user_response)\n",
    "    TfidfVec = TfidfVectorizer(tokenizer=LemNormalize, stop_words='english')\n",
    "    tfidf = TfidfVec.fit_transform(sent_tokens)\n",
    "    vals = cosine_similarity(tfidf[-1], tfidf)\n",
    "    idx=vals.argsort()[0][-2]\n",
    "    flat = vals.flatten()\n",
    "    flat.sort()\n",
    "    req_tfidf = flat[-2]\n",
    "    if(req_tfidf==0):\n",
    "        robo_response=robo_response+\"I am sorry! I don't understand you\"\n",
    "        return robo_response\n",
    "    else:\n",
    "        robo_response = robo_response+sent_tokens[idx]\n",
    "        return robo_response"
   ]
  },
  {
   "cell_type": "code",
   "execution_count": 15,
   "id": "3cff8815-d1eb-4037-9988-5fe9a0d8892c",
   "metadata": {},
   "outputs": [
    {
     "name": "stdout",
     "output_type": "stream",
     "text": [
      "Julie: My name is Julie. I will answer your queries about Chatbots. If you want to exit, type Bye!\n"
     ]
    },
    {
     "name": "stdin",
     "output_type": "stream",
     "text": [
      " Bye\n"
     ]
    },
    {
     "name": "stdout",
     "output_type": "stream",
     "text": [
      "Julie: Bye! take care..\n"
     ]
    }
   ],
   "source": [
    "flag=True\n",
    "print(\"Julie: My name is Julie. I will answer your queries about Chatbots. If you want to exit, type Bye!\")\n",
    "while(flag==True):\n",
    "    user_response = input()\n",
    "    user_response=user_response.lower()\n",
    "    if(user_response!='bye'):\n",
    "        if(user_response=='thanks' or user_response=='thank you' ):\n",
    "            flag=False\n",
    "            print(\"Julie: You are welcome..\")\n",
    "        else:\n",
    "            if(greeting(user_response)!=None):\n",
    "                print(\"Julie: \"+greeting(user_response))\n",
    "            else:\n",
    "                print(\"Julie: \",end=\"\")\n",
    "                print(response(user_response))\n",
    "                sent_tokens.remove(user_response)\n",
    "    else:\n",
    "        flag=False\n",
    "        print(\"Julie: Bye! take care..\")"
   ]
  },
  {
   "cell_type": "code",
   "execution_count": null,
   "id": "93e31d74-f70c-4fe0-928e-249264a09805",
   "metadata": {},
   "outputs": [],
   "source": []
  }
 ],
 "metadata": {
  "kernelspec": {
   "display_name": "Python 3 (ipykernel)",
   "language": "python",
   "name": "python3"
  },
  "language_info": {
   "codemirror_mode": {
    "name": "ipython",
    "version": 3
   },
   "file_extension": ".py",
   "mimetype": "text/x-python",
   "name": "python",
   "nbconvert_exporter": "python",
   "pygments_lexer": "ipython3",
   "version": "3.12.7"
  }
 },
 "nbformat": 4,
 "nbformat_minor": 5
}
